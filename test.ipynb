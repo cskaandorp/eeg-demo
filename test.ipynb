{
 "cells": [
  {
   "cell_type": "code",
   "execution_count": null,
   "metadata": {},
   "outputs": [],
   "source": [
    "rng(1); % For reproducibility\n",
    "r = sqrt(rand(100,1)); % Radius\n",
    "t = 2*pi*rand(100,1);  % Angle\n",
    "data1 = [r.*cos(t), r.*sin(t)]; % Points"
   ]
  },
  {
   "cell_type": "code",
   "execution_count": null,
   "metadata": {},
   "outputs": [],
   "source": [
    "r2 = sqrt(3*rand(100,1)+1); % Radius\n",
    "t2 = 2*pi*rand(100,1);      % Angle\n",
    "data2 = [r2.*cos(t2), r2.*sin(t2)]; % points"
   ]
  },
  {
   "cell_type": "code",
   "execution_count": null,
   "metadata": {},
   "outputs": [],
   "source": [
    "figure;\n",
    "plot(data1(:,1),data1(:,2),'r.','MarkerSize',15)\n",
    "hold on\n",
    "plot(data2(:,1),data2(:,2),'b.','MarkerSize',15)\n",
    "ezpolar(@(x)1);ezpolar(@(x)2);\n",
    "axis equal\n",
    "hold off"
   ]
  },
  {
   "cell_type": "code",
   "execution_count": null,
   "metadata": {},
   "outputs": [],
   "source": [
    "data3 = [data1;data2];\n",
    "theclass = ones(200,1);\n",
    "theclass(1:100) = -1;"
   ]
  },
  {
   "cell_type": "code",
   "execution_count": null,
   "metadata": {},
   "outputs": [],
   "source": [
    "%Train the SVM Classifier\n",
    "cl = fitcsvm(data3,theclass,'KernelFunction','rbf',...\n",
    "    'BoxConstraint',Inf,'ClassNames',[-1,1]);\n",
    "\n",
    "% Predict scores over the grid\n",
    "d = 0.02;\n",
    "[x1Grid,x2Grid] = meshgrid(min(data3(:,1)):d:max(data3(:,1)),...\n",
    "    min(data3(:,2)):d:max(data3(:,2)));\n",
    "xGrid = [x1Grid(:),x2Grid(:)];\n",
    "[~,scores] = predict(cl,xGrid);"
   ]
  },
  {
   "cell_type": "code",
   "execution_count": null,
   "metadata": {},
   "outputs": [],
   "source": [
    "% Plot the data and the decision boundary\n",
    "figure;\n",
    "h(1:2) = gscatter(data3(:,1),data3(:,2),theclass,'rb','.');\n",
    "hold on\n",
    "ezpolar(@(x)1);\n",
    "h(3) = plot(data3(cl.IsSupportVector,1),data3(cl.IsSupportVector,2),'ko');\n",
    "contour(x1Grid,x2Grid,reshape(scores(:,2),size(x1Grid)),[0 0],'k');\n",
    "legend(h,{'-1','+1','Support Vectors'});\n",
    "axis equal\n",
    "hold off"
   ]
  },
  {
   "cell_type": "code",
   "execution_count": null,
   "metadata": {},
   "outputs": [],
   "source": [
    "cl2 = fitcsvm(data3,theclass,'KernelFunction','rbf');\n",
    "[~,scores2] = predict(cl2,xGrid);\n",
    "\n",
    "figure;\n",
    "h(1:2) = gscatter(data3(:,1),data3(:,2),theclass,'rb','.');\n",
    "hold on\n",
    "ezpolar(@(x)1);\n",
    "h(3) = plot(data3(cl2.IsSupportVector,1),data3(cl2.IsSupportVector,2),'ko');\n",
    "contour(x1Grid,x2Grid,reshape(scores2(:,2),size(x1Grid)),[0 0],'k');\n",
    "legend(h,{'-1','+1','Support Vectors'});\n",
    "axis equal\n",
    "hold off"
   ]
  },
  {
   "cell_type": "code",
   "execution_count": null,
   "metadata": {},
   "outputs": [],
   "source": []
  }
 ],
 "metadata": {
  "kernelspec": {
   "display_name": "Matlab",
   "language": "matlab",
   "name": "matlab"
  },
  "language_info": {
   "codemirror_mode": "octave",
   "file_extension": ".m",
   "help_links": [
    {
     "text": "MetaKernel Magics",
     "url": "https://metakernel.readthedocs.io/en/latest/source/README.html"
    }
   ],
   "mimetype": "text/x-octave",
   "name": "matlab",
   "version": "0.16.7"
  }
 },
 "nbformat": 4,
 "nbformat_minor": 2
}
